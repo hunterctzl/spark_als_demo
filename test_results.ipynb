{
 "cells": [
  {
   "cell_type": "code",
   "execution_count": 1,
   "metadata": {
    "ExecuteTime": {
     "end_time": "2020-10-28T01:33:20.287795Z",
     "start_time": "2020-10-28T01:33:16.052074Z"
    }
   },
   "outputs": [],
   "source": [
    "from recommender.modeling.spark_prediction import results"
   ]
  },
  {
   "cell_type": "code",
   "execution_count": 8,
   "metadata": {
    "ExecuteTime": {
     "end_time": "2020-10-28T01:39:18.916447Z",
     "start_time": "2020-10-28T01:38:42.618692Z"
    }
   },
   "outputs": [
    {
     "name": "stdout",
     "output_type": "stream",
     "text": [
      "{1: 'For Whom the Bell Tolls (1943)', 2: 'When We Were Kings (1996)', 3: 'Cat People (1982)', 4: 'With Friends Like These... (1998)', 5: 'Body Heat (1981)', 6: 'Regret to Inform (1998)', 7: '24 Hour Party People (2002)', 8: 'Hammett (1982)', 9: 'Leningrad Cowboys Go America (1989)', 10: 'Girlhood (2003)'}\n",
      "{1: 'Dream Man (1995)', 2: \"Enfer, L' (1994)\", 3: 'Pretty Woman (1990)', 4: 'Borrowers, The (1997)', 5: 'Henry Fool (1997)', 6: 'Lords of Flatbush, The (1974)', 7: 'House on Carroll Street, The (1988)', 8: 'Harder They Fall, The (1956)', 9: 'Killing of a Chinese Bookie, The (1976)', 10: 'The Magician (1958)'}\n",
      "{1: 'Dream Man (1995)', 2: 'Cold Comfort Farm (1995)', 3: 'When We Were Kings (1996)', 4: 'Music From Another Room (1998)', 5: 'Borrowers, The (1997)', 6: 'Hans Christian Andersen (1952)', 7: 'City of Women, The (Città delle donne, La) (1980)', 8: 'Anger Management (2003)', 9: 'Garage Days (2002)', 10: 'Super Size Me (2004)'}\n"
     ]
    }
   ],
   "source": [
    "for i in [1,500,999]:\n",
    "    print(results(i))"
   ]
  },
  {
   "cell_type": "code",
   "execution_count": null,
   "metadata": {},
   "outputs": [],
   "source": []
  }
 ],
 "metadata": {
  "kernelspec": {
   "display_name": "Python 3",
   "language": "python",
   "name": "python3"
  },
  "language_info": {
   "codemirror_mode": {
    "name": "ipython",
    "version": 3
   },
   "file_extension": ".py",
   "mimetype": "text/x-python",
   "name": "python",
   "nbconvert_exporter": "python",
   "pygments_lexer": "ipython3",
   "version": "3.8.3"
  },
  "toc": {
   "base_numbering": 1,
   "nav_menu": {},
   "number_sections": true,
   "sideBar": true,
   "skip_h1_title": false,
   "title_cell": "Table of Contents",
   "title_sidebar": "Contents",
   "toc_cell": false,
   "toc_position": {},
   "toc_section_display": true,
   "toc_window_display": false
  },
  "varInspector": {
   "cols": {
    "lenName": 16,
    "lenType": 16,
    "lenVar": 40
   },
   "kernels_config": {
    "python": {
     "delete_cmd_postfix": "",
     "delete_cmd_prefix": "del ",
     "library": "var_list.py",
     "varRefreshCmd": "print(var_dic_list())"
    },
    "r": {
     "delete_cmd_postfix": ") ",
     "delete_cmd_prefix": "rm(",
     "library": "var_list.r",
     "varRefreshCmd": "cat(var_dic_list()) "
    }
   },
   "types_to_exclude": [
    "module",
    "function",
    "builtin_function_or_method",
    "instance",
    "_Feature"
   ],
   "window_display": false
  }
 },
 "nbformat": 4,
 "nbformat_minor": 4
}
